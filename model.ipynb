{
 "cells": [
  {
   "cell_type": "code",
   "execution_count": null,
   "id": "c7b207b0",
   "metadata": {},
   "outputs": [
    {
     "name": "stdout",
     "output_type": "stream",
     "text": [
      "Accuracy:         76.67%\n",
      "Precision (macro): 69.60%\n",
      "Recall (macro):    70.51%\n",
      "F1-score (macro):  68.97%\n",
      "\n",
      "Classification Report:\n",
      "\n",
      "                               precision    recall  f1-score   support\n",
      "\n",
      "            Back‑End Engineer       1.00      1.00      1.00         1\n",
      "                 C++ Engineer       1.00      1.00      1.00         1\n",
      "                 Data Analyst       0.00      0.00      0.00         4\n",
      "                Data Engineer       1.00      1.00      1.00         2\n",
      "                     Designer       1.00      0.50      0.67         2\n",
      "                  Ml Engineer       0.00      0.00      0.00         0\n",
      "              Mobile Engineer       1.00      1.00      1.00         2\n",
      "              Project Manager       0.67      0.67      0.67         3\n",
      "                  Qa Engineer       0.00      0.00      0.00         1\n",
      "            Software Engineer       0.71      1.00      0.83        10\n",
      "Software Engineer (Dashboard)       1.00      1.00      1.00         1\n",
      "               System Analyst       1.00      1.00      1.00         1\n",
      "              Unity Developer       0.67      1.00      0.80         2\n",
      "\n",
      "                     accuracy                           0.77        30\n",
      "                    macro avg       0.70      0.71      0.69        30\n",
      "                 weighted avg       0.68      0.77      0.71        30\n",
      "\n"
     ]
    }
   ],
   "source": [
    "import pandas as pd\n",
    "import ast\n",
    "from sklearn.model_selection import train_test_split\n",
    "from sklearn.preprocessing import MultiLabelBinarizer\n",
    "from sklearn.naive_bayes import MultinomialNB\n",
    "from sklearn.metrics import (\n",
    "    classification_report,\n",
    "    accuracy_score,\n",
    "    precision_score,\n",
    "    recall_score,\n",
    "    f1_score\n",
    ")\n",
    "\n",
    "df = pd.read_csv(\"datasetAiFinal1.csv\")\n",
    "df['Skills'] = df['Skills'].apply(ast.literal_eval)  \n",
    "\n",
    "\n",
    "mlb = MultiLabelBinarizer()\n",
    "X = mlb.fit_transform(df['Skills'])\n",
    "y = df['Job Title']\n",
    "\n",
    "\n",
    "X_train, X_test, y_train, y_test = train_test_split(X, y, test_size=0.2, random_state=42)\n",
    "\n",
    "model = MultinomialNB()\n",
    "model.fit(X_train, y_train)\n",
    "\n",
    "\n",
    "y_pred = model.predict(X_test)\n",
    "\n",
    "\n",
    "accuracy = accuracy_score(y_test, y_pred)\n",
    "precision_macro = precision_score(y_test, y_pred, average='macro', zero_division=0)\n",
    "recall_macro = recall_score(y_test, y_pred, average='macro', zero_division=0)\n",
    "f1_macro = f1_score(y_test, y_pred, average='macro', zero_division=0)\n",
    "\n",
    "\n",
    "print(f\"Accuracy:         {accuracy:.2%}\")\n",
    "print(f\"Precision (macro): {precision_macro:.2%}\")\n",
    "print(f\"Recall (macro):    {recall_macro:.2%}\")\n",
    "print(f\"F1-score (macro):  {f1_macro:.2%}\")\n",
    "print(\"\\nClassification Report:\\n\")\n",
    "print(classification_report(y_test, y_pred, zero_division=0))\n"
   ]
  }
 ],
 "metadata": {
  "kernelspec": {
   "display_name": "Python 3",
   "language": "python",
   "name": "python3"
  },
  "language_info": {
   "codemirror_mode": {
    "name": "ipython",
    "version": 3
   },
   "file_extension": ".py",
   "mimetype": "text/x-python",
   "name": "python",
   "nbconvert_exporter": "python",
   "pygments_lexer": "ipython3",
   "version": "3.11.5"
  }
 },
 "nbformat": 4,
 "nbformat_minor": 5
}
